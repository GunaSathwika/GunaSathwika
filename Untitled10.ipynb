{
  "cells": [
    {
      "cell_type": "markdown",
      "metadata": {
        "id": "view-in-github",
        "colab_type": "text"
      },
      "source": [
        "<a href=\"https://colab.research.google.com/github/GunaSathwika/GunaSathwika/blob/main/Untitled10.ipynb\" target=\"_parent\"><img src=\"https://colab.research.google.com/assets/colab-badge.svg\" alt=\"Open In Colab\"/></a>"
      ]
    },
    {
      "cell_type": "markdown",
      "metadata": {
        "id": "5WuMeoXuGvB3"
      },
      "source": [
        "Task-1: Create a pandas  data frame(data frame name  as 'df' ) with numpy random values(4  features and 4observations)  \n",
        "\n",
        "Task-2: Rename the df dataframe column names to 'Random value 1','Random value 2','Random value 3' &'Random value'4'\n",
        "\n",
        "Task-3: Find the descriptive ststistics of the 'df' dataframe  \n",
        "\n",
        "Task-4: Check the null values in'df' and find the datatype of the columns.\n",
        "\n",
        "Task-5: Display the 'Rndom value 2' &'Random value 3' columns with location menthod and the index location method"
      ]
    },
    {
      "cell_type": "code",
      "execution_count": null,
      "metadata": {
        "colab": {
          "background_save": true,
          "base_uri": "https://localhost:8080/"
        },
        "id": "76qC7ouQG2dt",
        "outputId": "b0a65d13-4806-4088-fb63-d14f1dd7e668"
      },
      "outputs": [
        {
          "name": "stdout",
          "output_type": "stream",
          "text": [
            "       Random value 1  Random value 2  Random value 3  Random value 4\n",
            "count        4.000000        4.000000        4.000000        4.000000\n",
            "mean         0.555568        0.614493        0.374553        0.501335\n",
            "std          0.323307        0.375151        0.234018        0.378700\n",
            "min          0.124265        0.210727        0.134426        0.024780\n",
            "25%          0.426491        0.338051        0.255905        0.383566\n",
            "50%          0.604928        0.645434        0.336090        0.514599\n",
            "75%          0.734006        0.921876        0.454739        0.632368\n",
            "max          0.888153        0.956377        0.691607        0.951360\n",
            "Random value 1    0\n",
            "Random value 2    0\n",
            "Random value 3    0\n",
            "Random value 4    0\n",
            "dtype: int64\n",
            "Random value 1    float64\n",
            "Random value 2    float64\n",
            "Random value 3    float64\n",
            "Random value 4    float64\n",
            "dtype: object\n",
            "   Random value 2  Random value 3\n",
            "0        0.380492        0.375783\n",
            "1        0.210727        0.296398\n",
            "2        0.956377        0.691607\n",
            "3        0.910376        0.134426\n",
            "   Random value 2  Random value 3\n",
            "0        0.380492        0.375783\n",
            "1        0.210727        0.296398\n",
            "2        0.956377        0.691607\n",
            "3        0.910376        0.134426\n"
          ]
        }
      ],
      "source": [
        "import pandas as pd\n",
        "import numpy as np\n",
        "#Create a Pandas DataFrame with random values\n",
        "df=np.random.rand(4,4)\n",
        "df\n",
        "df1 = pd.DataFrame(df, columns=['Random value 1', 'Random value 2', 'Random value 3', 'Random value 4'])\n",
        "df1\n",
        "# Descriptive statistics\n",
        "statistics = df1.describe()\n",
        "print(statistics)\n",
        "# Check for null values\n",
        "null_values = df1.isnull().sum()\n",
        "print(null_values)\n",
        "# Find data types of columns\n",
        "data_types = df1.dtypes\n",
        "print(data_types)\n",
        "# Display 'Random value 2' and 'Random value 3' columns using loc\n",
        "print(df1.loc[:, ['Random value 2', 'Random value 3']])\n",
        "# Display 'Random value 2' and 'Random value 3' columns using iloc\n",
        "print(df1.iloc[:, 1:3])"
      ]
    }
  ],
  "metadata": {
    "colab": {
      "provenance": [],
      "authorship_tag": "ABX9TyNokacBtw+QPh0iz3bBSu8D",
      "include_colab_link": true
    },
    "kernelspec": {
      "display_name": "Python 3",
      "name": "python3"
    },
    "language_info": {
      "name": "python"
    }
  },
  "nbformat": 4,
  "nbformat_minor": 0
}